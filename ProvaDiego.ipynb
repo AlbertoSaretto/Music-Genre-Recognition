{
 "cells": [
  {
   "cell_type": "code",
   "execution_count": 1,
   "metadata": {},
   "outputs": [
    {
     "name": "stderr",
     "output_type": "stream",
     "text": [
      "/home/alberto/anaconda3/envs/mgr2/lib/python3.9/site-packages/tqdm/auto.py:21: TqdmWarning: IProgress not found. Please update jupyter and ipywidgets. See https://ipywidgets.readthedocs.io/en/stable/user_install.html\n",
      "  from .autonotebook import tqdm as notebook_tqdm\n",
      "2024-01-03 18:57:04.864439: I tensorflow/core/platform/cpu_feature_guard.cc:193] This TensorFlow binary is optimized with oneAPI Deep Neural Network Library (oneDNN) to use the following CPU instructions in performance-critical operations:  SSE4.1 SSE4.2 AVX AVX2 FMA\n",
      "To enable them in other operations, rebuild TensorFlow with the appropriate compiler flags.\n"
     ]
    },
    {
     "name": "stdout",
     "output_type": "stream",
     "text": [
      "let's start\n"
     ]
    }
   ],
   "source": [
    "import numpy as np\n",
    "from torchvision.transforms import Compose, ToTensor\n",
    "import torch\n",
    "import torch.nn as nn\n",
    "import torch.nn.functional as F\n",
    "#import torch.optim as optim\n",
    "#import torchvision\n",
    "from torch.utils.data import DataLoader\n",
    "#import torch\n",
    "import os \n",
    "#import librosa\n",
    "from torch.optim import Adadelta\n",
    "#from torch.nn import CrossEntropyLoss\n",
    "from tqdm import tqdm\n",
    "import gc\n",
    "import pytorch_lightning as pl\n",
    "import time\n",
    "import pickle\n",
    "import optuna\n",
    "\n",
    "from utils_mgr import readheavy, get_stft, clip_audio, clip_stft, DataAudio\n",
    "\n",
    "\n",
    "print(\"let's start\")\n",
    "\n",
    "##tensorboard --logdir=lightning_logs/ \n",
    "# to visualize logs\n",
    "\n",
    "\n"
   ]
  },
  {
   "cell_type": "code",
   "execution_count": 2,
   "metadata": {},
   "outputs": [
    {
     "name": "stdout",
     "output_type": "stream",
     "text": [
      "reading train\n",
      "making clips\n"
     ]
    }
   ],
   "source": [
    "\n",
    "n_train = 1\n",
    "\n",
    "\n",
    "print(\"reading train\")\n",
    "#Convert Audio into stft data\n",
    "#train = readheavy(\"training\",1,f\"Audio/\")\n",
    "\n",
    "train =  np.load(f\"Data/Audio/training_{n_train}.npy\", allow_pickle = True)\n",
    "\n",
    "\n",
    "# take each song and splits it into clips of n_samples \n",
    "# creates \n",
    "print(\"making clips\")\n",
    "train_clip = clip_audio(train, 65_536) "
   ]
  },
  {
   "cell_type": "code",
   "execution_count": 3,
   "metadata": {},
   "outputs": [
    {
     "data": {
      "text/plain": [
       "(65536,)"
      ]
     },
     "execution_count": 3,
     "metadata": {},
     "output_type": "execute_result"
    }
   ],
   "source": [
    "train_clip[0][0].shape"
   ]
  },
  {
   "cell_type": "code",
   "execution_count": 4,
   "metadata": {},
   "outputs": [
    {
     "data": {
      "text/plain": [
       "tensor([ 1.4901e-08,  2.6077e-08,  3.7253e-09,  ..., -5.7922e-03,\n",
       "         4.2363e-04,  1.3559e-02])"
      ]
     },
     "execution_count": 4,
     "metadata": {},
     "output_type": "execute_result"
    }
   ],
   "source": [
    "torch.Tensor(train_clip[0][0])"
   ]
  },
  {
   "cell_type": "code",
   "execution_count": 5,
   "metadata": {},
   "outputs": [
    {
     "name": "stdout",
     "output_type": "stream",
     "text": [
      "reading train\n",
      "making clips\n",
      "making clips\n",
      "Dimensione dataset:  (7581, 2)\n",
      "train dataloader\n",
      "valid dataloader\n",
      "data loaded\n"
     ]
    },
    {
     "data": {
      "text/plain": [
       "0"
      ]
     },
     "execution_count": 5,
     "metadata": {},
     "output_type": "execute_result"
    }
   ],
   "source": [
    "\n",
    "n_train = 1\n",
    "\n",
    "\n",
    "print(\"reading train\")\n",
    "#Convert Audio into stft data\n",
    "#train = readheavy(\"training\",1,f\"Audio/\")\n",
    "\n",
    "train =  np.load(f\"Data/Audio/training_{n_train}.npy\", allow_pickle = True)\n",
    "\n",
    "valid = readheavy(\"validation\",2,\"Data/Audio/\")\n",
    "\n",
    "# take each song and splits it into clips of n_samples \n",
    "# creates \n",
    "print(\"making clips\")\n",
    "train_clip = clip_audio(train, 65_536)   #65536 is the closest power of 2 to reproduce clips of 3s\n",
    "print(\"making clips\")\n",
    "valid_clip = clip_audio(valid, 65_536)    \n",
    "\n",
    "transforms = Compose([ torch.Tensor, ]) # Normalize(0,1) is not necessary for stft data\n",
    "\n",
    "print('Dimensione dataset: ', train_clip.shape)\n",
    "\n",
    "train_dataset = DataAudio(data=train_clip,transform=transforms)\n",
    "valid_dataset = DataAudio(data=valid_clip,transform=transforms)\n",
    "\n",
    "del train_clip\n",
    "del valid_clip\n",
    "\n",
    "gc.collect()\n",
    "\n",
    "#Creation of dataloader classes\n",
    "print(\"train dataloader\")\n",
    "train_dataloader = DataLoader(train_dataset, 64, shuffle=True, num_workers=os.cpu_count())\n",
    "print(\"valid dataloader\")\n",
    "valid_dataloader = DataLoader(valid_dataset, 64, shuffle=False, num_workers=os.cpu_count())\n",
    "print(\"data loaded\")\n",
    "\n",
    "del train_dataset\n",
    "del valid_dataset\n",
    "gc.collect()\n",
    "\n"
   ]
  },
  {
   "cell_type": "code",
   "execution_count": 6,
   "metadata": {},
   "outputs": [
    {
     "data": {
      "text/plain": [
       "array([ 1.4901161e-08,  2.6077032e-08,  3.7252903e-09, ...,\n",
       "       -5.7921670e-03,  4.2362884e-04,  1.3559222e-02], dtype=float32)"
      ]
     },
     "execution_count": 6,
     "metadata": {},
     "output_type": "execute_result"
    }
   ],
   "source": [
    "train_dataloader.dataset.x[0]\n"
   ]
  },
  {
   "cell_type": "code",
   "execution_count": 7,
   "metadata": {},
   "outputs": [
    {
     "name": "stdout",
     "output_type": "stream",
     "text": [
      "torch.Size([64, 65536])\n"
     ]
    },
    {
     "ename": "",
     "evalue": "",
     "output_type": "error",
     "traceback": [
      "\u001b[1;31mThe Kernel crashed while executing code in the the current cell or a previous cell. Please review the code in the cell(s) to identify a possible cause of the failure. Click <a href='https://aka.ms/vscodeJupyterKernelCrash'>here</a> for more info. View Jupyter <a href='command:jupyter.viewOutput'>log</a> for further details."
     ]
    }
   ],
   "source": [
    "for x,y in train_dataloader:\n",
    "    print(x.shape)\n",
    "    break"
   ]
  },
  {
   "cell_type": "code",
   "execution_count": null,
   "metadata": {},
   "outputs": [],
   "source": []
  }
 ],
 "metadata": {
  "kernelspec": {
   "display_name": "mgr2",
   "language": "python",
   "name": "python3"
  },
  "language_info": {
   "codemirror_mode": {
    "name": "ipython",
    "version": 3
   },
   "file_extension": ".py",
   "mimetype": "text/x-python",
   "name": "python",
   "nbconvert_exporter": "python",
   "pygments_lexer": "ipython3",
   "version": "3.9.18"
  }
 },
 "nbformat": 4,
 "nbformat_minor": 2
}
